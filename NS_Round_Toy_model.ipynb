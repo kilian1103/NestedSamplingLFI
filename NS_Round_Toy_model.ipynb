{
 "cells": [
  {
   "cell_type": "code",
   "execution_count": 56,
   "metadata": {
    "collapsed": true
   },
   "outputs": [],
   "source": [
    "import logging\n",
    "import os\n",
    "\n",
    "import matplotlib.pyplot as plt\n",
    "import numpy as np\n",
    "import scipy.stats as stats\n",
    "import swyft\n",
    "from scipy.stats import multivariate_normal\n",
    "\n",
    "import NSLFI.NestedSampler\n",
    "from NSLFI.NRE_Settings import NRE_Settings\n",
    "from NSLFI.Swyft_NRE_Wrapper import NRE\n"
   ]
  },
  {
   "cell_type": "code",
   "execution_count": 57,
   "outputs": [],
   "source": [
    "np.random.seed(234)\n",
    "logging.basicConfig(filename=\"myLFI.log\", level=logging.INFO,\n",
    "                    filemode=\"w\")\n",
    "logger = logging.getLogger()\n",
    "logger.info('Started')\n",
    "root = \"swyft_data\"\n",
    "try:\n",
    "    os.makedirs(root)\n",
    "except OSError:\n",
    "    logger.info(\"root folder already exists!\")\n",
    "\n",
    "nreSettings = NRE_Settings(base_path=root)\n",
    "nreSettings.n_training_samples = 10_00\n",
    "nreSettings.n_weighted_samples = 10_000\n",
    "nreSettings.trainmode = True\n",
    "#NS rounds, 0 is default NS run\n",
    "rounds = 2\n",
    "# define forward model dimensions\n",
    "nParam = 2\n",
    "nData = 3\n",
    "# true parameters of simulator\n",
    "cov = 0.01 * np.eye(nData)\n",
    "mu = 0.5 * np.ones(nParam)\n",
    "F = np.eye(nData, nParam)\n",
    "x0 = multivariate_normal.rvs(F @ mu, cov)\n",
    "\n",
    "#uniform prior for theta_i\n",
    "lower = 0\n",
    "upper = 1\n",
    "theta_prior = stats.uniform(loc=lower, scale=upper)\n",
    "#wrap prior for NS sampling procedure\n",
    "prior = {f\"theta_{i}\": theta_prior for i in range(nParam)}"
   ],
   "metadata": {
    "collapsed": false
   }
  },
  {
   "cell_type": "code",
   "execution_count": 58,
   "outputs": [
    {
     "name": "stderr",
     "output_type": "stream",
     "text": [
      "100%|██████████| 4000/4000 [00:01<00:00, 3425.71it/s]\n"
     ]
    }
   ],
   "source": [
    "class Simulator(swyft.Simulator):\n",
    "    def __init__(self):\n",
    "        super().__init__()\n",
    "        self.transform_samples = swyft.to_numpy32\n",
    "\n",
    "    def build(self, graph):\n",
    "        means = graph.node('means', lambda: theta_prior.rvs(size=nParam))\n",
    "        x = graph.node('x',\n",
    "                       lambda means: multivariate_normal.rvs(F @ means, cov),\n",
    "                       means)\n",
    "\n",
    "\n",
    "sim = Simulator()\n",
    "samples = sim.sample(N=nreSettings.n_training_samples)"
   ],
   "metadata": {
    "collapsed": false
   }
  },
  {
   "cell_type": "code",
   "execution_count": 59,
   "outputs": [
    {
     "name": "stderr",
     "output_type": "stream",
     "text": [
      "GPU available: False, used: False\n",
      "TPU available: False, using: 0 TPU cores\n",
      "IPU available: False, using: 0 IPUs\n",
      "HPU available: False, using: 0 HPUs\n"
     ]
    }
   ],
   "source": [
    " # initialize swyft network\n",
    "class Network(swyft.SwyftModule):\n",
    "    def __init__(self):\n",
    "        super().__init__()\n",
    "        marginals = (tuple(x for x in range(nParam)),)\n",
    "        # self.logratios1 = swyft.LogRatioEstimator_1dim(num_features = 1, num_params = 3, varnames = 'z')\n",
    "        self.logratios2 = swyft.LogRatioEstimator_Ndim(num_features=nData, marginals=marginals,\n",
    "                                                       varnames='means',\n",
    "                                                       hidden_features=32)\n",
    "\n",
    "    def forward(self, A, B):\n",
    "        # logratios1 = self.logratios1(A['x'], B['z'])\n",
    "        logratios2 = self.logratios2(A['x'], B['means'])\n",
    "        return logratios2\n",
    "\n",
    "\n",
    "trainer = swyft.SwyftTrainer(accelerator=nreSettings.device, devices=1, max_epochs=20, precision=64,\n",
    "                             enable_progress_bar=False, default_root_dir=nreSettings.base_path)\n",
    "dm = swyft.SwyftDataModule(samples, fractions=[0.8, 0.02, 0.1], num_workers=3, batch_size=256)\n",
    "network = Network()"
   ],
   "metadata": {
    "collapsed": false
   }
  },
  {
   "cell_type": "code",
   "execution_count": null,
   "outputs": [
    {
     "name": "stderr",
     "output_type": "stream",
     "text": [
      "Missing logger folder: swyft_data_larger_prior_0to2_4000train/lightning_logs\n",
      "\n",
      "  | Name       | Type                   | Params\n",
      "------------------------------------------------------\n",
      "0 | logratios2 | LogRatioEstimator_Ndim | 4.7 K \n",
      "------------------------------------------------------\n",
      "4.7 K     Trainable params\n",
      "0         Non-trainable params\n",
      "4.7 K     Total params\n",
      "0.038     Total estimated model params size (MB)\n",
      "/Users/hikarukilian/IdeaProjects/NS_LFI/venv/lib/python3.9/site-packages/pytorch_lightning/trainer/trainer.py:1558: PossibleUserWarning: The number of training batches (14) is smaller than the logging interval Trainer(log_every_n_steps=50). Set a lower value for log_every_n_steps if you want to see logs for the training epoch.\n",
      "  rank_zero_warn(\n"
     ]
    }
   ],
   "source": [
    "# train MRE\n",
    "if nreSettings.trainmode is True:\n",
    "    trainer.fit(network, dm)\n",
    "\n",
    "    # load NRE from file\n",
    "else:\n",
    "    checkpoint_path = os.path.join(nreSettings.base_path,\n",
    "                                   \"lightning_logs/version_7/checkpoints/epoch=19-step=84.ckpt\")\n",
    "    network = network.load_from_checkpoint(checkpoint_path)"
   ],
   "metadata": {
    "collapsed": false,
    "pycharm": {
     "is_executing": true
    }
   }
  },
  {
   "cell_type": "code",
   "execution_count": null,
   "outputs": [],
   "source": [
    " # get posterior samples\n",
    "means = theta_prior.rvs(size=(nreSettings.n_weighted_samples, nParam))\n",
    "B = swyft.Samples(means=means)\n",
    "C = swyft.Sample(means=x0)\n",
    "x0 = swyft.Sample(x=x0)\n",
    "predictions = trainer.infer(network, x0, B)\n",
    "# plot initial NRE\n",
    "\n",
    "plt.figure()\n",
    "labeler = {f\"means[{i}]\": fr\"$\\mu_{i}$\" for i in range(nParam)}\n",
    "swyft.corner(predictions, tuple(f\"means[{i}]\" for i in range(nParam)), labeler=labeler, bins=200, smooth=3);\n",
    "plt.suptitle(\"NRE parameter estimation\")\n",
    "plt.savefig(fname=f\"{root}/firstNRE.pdf\")"
   ],
   "metadata": {
    "collapsed": false,
    "pycharm": {
     "is_executing": true
    }
   }
  },
  {
   "cell_type": "code",
   "execution_count": null,
   "outputs": [],
   "source": [
    "logProb_0 = trainer.infer(network, x0, C)\n",
    "print(f\"log probability of theta_0 using NRE is: {float(logProb_0.logratios):.3f}\")"
   ],
   "metadata": {
    "collapsed": false,
    "pycharm": {
     "is_executing": true
    }
   }
  },
  {
   "cell_type": "code",
   "execution_count": null,
   "outputs": [],
   "source": [
    "# wrap NRE object\n",
    "trained_NRE = NRE(network=network, trainer=trainer, prior=prior, nreSettings=nreSettings, obs=x0,\n",
    "                  livepoints=means)"
   ],
   "metadata": {
    "collapsed": false,
    "pycharm": {
     "is_executing": true
    }
   }
  },
  {
   "cell_type": "markdown",
   "source": [],
   "metadata": {
    "collapsed": false
   }
  },
  {
   "cell_type": "markdown",
   "source": [
    "# wrap NRE for Polychord\n",
    "poly_NRE = NRE_Poly(nre=trained_NRE.mre_2d, x0=x0)\n",
    "polychordSet = PolyChordSettings(nParams=poly_NRE.nParams, nDerived=poly_NRE.nDerived)\n",
    "polychordSet.nlive = n_training_samples\n",
    "try:\n",
    "    comm_analyse = MPI.COMM_WORLD\n",
    "    rank_analyse = comm_analyse.Get_rank()\n",
    "except Exception as e:\n",
    "    logger.error(\n",
    "        \"Oops! {} occurred. when Get_rank()\".format(e.__class__))\n",
    "    rank_analyse = 0\n",
    "\n",
    "\n",
    "def dumper(live, dead, logweights, logZ, logZerr):\n",
    "    \"\"\"Dumper Function for PolyChord for runtime progress access.\"\"\"\n",
    "    logger.info(\"Last dead point: {}\".format(dead[-1]))\n",
    "\n",
    "\n",
    "output = pypolychord.run_polychord(poly_NRE.loglike,\n",
    "                                   poly_NRE.nParams,\n",
    "                                   poly_NRE.nDerived,\n",
    "                                   polychordSet,\n",
    "                                   poly_NRE.prior, dumper)\n",
    "comm_analyse.Barrier()\n"
   ],
   "metadata": {
    "collapsed": false
   }
  },
  {
   "cell_type": "code",
   "execution_count": null,
   "outputs": [],
   "source": [
    "output = NSLFI.NestedSampler.nested_sampling(logLikelihood=trained_NRE.logLikelihood,\n",
    "                                             livepoints=trained_NRE.livepoints, prior=prior, nsim=100,\n",
    "                                             stop_criterion=1e-3,\n",
    "                                             samplertype=\"Metropolis\", rounds=rounds, root=root)"
   ],
   "metadata": {
    "collapsed": false,
    "pycharm": {
     "is_executing": true
    }
   }
  },
  {
   "cell_type": "code",
   "execution_count": null,
   "outputs": [],
   "source": [
    "firstRoundPoints = means\n",
    "secondRoundPoints = np.load(file=f\"{root}/posterior_samples_rounds_0.npy\")\n",
    "secondRoundPoints_birthLog = np.load(file=f\"{root}/logL_birth_rounds_0.npy\")[0]\n",
    "secondRoundPoints_LogLike = np.load(file=f\"{root}/logL_rounds_0.npy\")\n",
    "thirdRoundPoints = np.load(file=f\"{root}/posterior_samples_rounds_1.npy\")\n",
    "thirdRoundPoints_birthLog = np.load(file=f\"{root}/logL_birth_rounds_1.npy\")[0]\n",
    "thirdRoundPoints_LogLike = np.load(file=f\"{root}/logL_rounds_1.npy\")"
   ],
   "metadata": {
    "collapsed": false,
    "pycharm": {
     "is_executing": true
    }
   }
  },
  {
   "cell_type": "code",
   "execution_count": null,
   "outputs": [],
   "source": [
    "np.median(secondRoundPoints_LogLike)"
   ],
   "metadata": {
    "collapsed": false,
    "pycharm": {
     "is_executing": true
    }
   }
  },
  {
   "cell_type": "code",
   "execution_count": null,
   "outputs": [],
   "source": [
    "thirdRoundPoints_LogLike.min()"
   ],
   "metadata": {
    "collapsed": false,
    "pycharm": {
     "is_executing": true
    }
   }
  },
  {
   "cell_type": "code",
   "execution_count": null,
   "outputs": [],
   "source": [
    "plt.figure()\n",
    "plt.scatter(firstRoundPoints[:, 0], firstRoundPoints[:, 1], c=\"b\", label=\"Round 1\", s=3)\n",
    "plt.scatter(secondRoundPoints[:, 0], secondRoundPoints[:, 1], c=\"r\", label=\"Round 2\", s=3)\n",
    "plt.scatter(thirdRoundPoints[:, 0], thirdRoundPoints[:, 1], c=\"y\", label=\"Round 3\", s=3)\n",
    "plt.legend()\n",
    "plt.xlabel(r\"$\\theta_1$\")\n",
    "plt.ylabel(r\"$\\theta_2$\")\n",
    "plt.vlines(x=0.5, ymin=lower, ymax=upper, colors=\"cyan\")\n",
    "plt.hlines(y=0.5, xmin=lower, xmax=upper, colors=\"cyan\")\n",
    "plt.title(r\"Log-weights contours using NS rounds, $\\mathcal{L} > \"\n",
    "          r\"\\mathcal{L}_{\\mathrm{median}}$\")\n",
    "plt.savefig(f\"{root}/NS_rounds.pdf\")"
   ],
   "metadata": {
    "collapsed": false,
    "pycharm": {
     "is_executing": true
    }
   }
  }
 ],
 "metadata": {
  "kernelspec": {
   "name": "python3",
   "language": "python",
   "display_name": "Python 3 (ipykernel)"
  },
  "language_info": {
   "codemirror_mode": {
    "name": "ipython",
    "version": 2
   },
   "file_extension": ".py",
   "mimetype": "text/x-python",
   "name": "python",
   "nbconvert_exporter": "python",
   "pygments_lexer": "ipython2",
   "version": "2.7.6"
  }
 },
 "nbformat": 4,
 "nbformat_minor": 0
}